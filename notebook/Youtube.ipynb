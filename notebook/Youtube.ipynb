{
 "cells": [
  {
   "cell_type": "code",
   "execution_count": 1,
   "id": "9b0a93a3",
   "metadata": {},
   "outputs": [],
   "source": [
    "import numpy as np\n",
    "import pandas as pd\n",
    "import matplotlib.pyplot as plt\n",
    "import seaborn as sns"
   ]
  },
  {
   "cell_type": "code",
   "execution_count": 2,
   "id": "30f295d5",
   "metadata": {},
   "outputs": [],
   "source": [
    "# Sample DataFrame (replace with your actual DataFrame)\n",
    "df = pd.read_csv(r\"C:\\Users\\yasho\\Downloads\\youtube.csv\\Yearwise_data_spilit\\Yotube _data_2017\\Youtube_Data_UPdtaed.csv\") "
   ]
  },
  {
   "cell_type": "code",
   "execution_count": 3,
   "id": "ee219eed",
   "metadata": {},
   "outputs": [
    {
     "data": {
      "text/plain": [
       "(41225, 22)"
      ]
     },
     "execution_count": 3,
     "metadata": {},
     "output_type": "execute_result"
    }
   ],
   "source": [
    "df.shape"
   ]
  },
  {
   "cell_type": "code",
   "execution_count": 4,
   "id": "296d1baf",
   "metadata": {},
   "outputs": [
    {
     "data": {
      "text/plain": [
       "Error_Title                               593\n",
       "Late Night with Seth Meyers               164\n",
       "The Tonight Show Starring Jimmy Fallon    152\n",
       "The Late Show with Stephen Colbert        147\n",
       "WWE                                       134\n",
       "                                         ... \n",
       "Shyv's World                                1\n",
       "Anaki Abo                                   1\n",
       "Jacob Karhu                                 1\n",
       "Richard Sabak                               1\n",
       "Jordax Anime Vostfr                         1\n",
       "Name: channel_title, Length: 5088, dtype: int64"
      ]
     },
     "execution_count": 4,
     "metadata": {},
     "output_type": "execute_result"
    }
   ],
   "source": [
    "df['channel_title'].value_counts()"
   ]
  },
  {
   "cell_type": "code",
   "execution_count": 8,
   "id": "dab2226e",
   "metadata": {},
   "outputs": [
    {
     "data": {
      "text/plain": [
       "Unnamed                                                                             454\n",
       "Error                                                                                96\n",
       "G-Eazy - No Limit REMIX ft. A$AP Rocky, Cardi B, French Montana, Juicy J, Belly      46\n",
       "Selena Gomez, Marshmello - Wolves                                                    44\n",
       "It's true, wife and I are getting a divorce.  Here's whats next for us.              38\n",
       "                                                                                   ... \n",
       "Pourquoi la condamnation des 5 de Poitiers est scandaleuse ? Damien Rieu répond.      1\n",
       "Why is Herodotus called â€œThe Father of Historyâ€? - Mark Robinson                  1\n",
       " 76 / Pomegranate seed / Nran hatik                                                   1\n",
       "LES PERLES DU NET: Quand la PRISON te rend FOU !!!                                    1\n",
       "Envoyé spécial. Mon maire ce héros - 16 novembre 2017 (France 2)                      1\n",
       "Name: title, Length: 13390, dtype: int64"
      ]
     },
     "execution_count": 8,
     "metadata": {},
     "output_type": "execute_result"
    }
   ],
   "source": [
    "df['title'].value_counts()"
   ]
  },
  {
   "cell_type": "code",
   "execution_count": 12,
   "id": "6abd99f2",
   "metadata": {},
   "outputs": [],
   "source": [
    "# Identify rows where both channel_title and title are \"error\"\n",
    "condition = (df['channel_title'] == 'Error_Title')\n",
    "indexes_to_drop = df[condition].index\n",
    "\n",
    "# Drop those rows\n",
    "df.drop(indexes_to_drop, inplace=True)"
   ]
  },
  {
   "cell_type": "code",
   "execution_count": 13,
   "id": "51deca98",
   "metadata": {},
   "outputs": [
    {
     "data": {
      "text/plain": [
       "Late Night with Seth Meyers               164\n",
       "The Tonight Show Starring Jimmy Fallon    152\n",
       "The Late Show with Stephen Colbert        147\n",
       "WWE                                       134\n",
       "CinemaSins                                128\n",
       "                                         ... \n",
       "CollÃ¨ge Saint-Bernard                      1\n",
       "LustreLux                                   1\n",
       "Official 905                                1\n",
       "Claire la SirÃ¨ne                           1\n",
       "CHauserable                                 1\n",
       "Name: channel_title, Length: 5087, dtype: int64"
      ]
     },
     "execution_count": 13,
     "metadata": {},
     "output_type": "execute_result"
    }
   ],
   "source": [
    "df['channel_title'].value_counts()"
   ]
  },
  {
   "cell_type": "code",
   "execution_count": 16,
   "id": "4872b6c1",
   "metadata": {
    "scrolled": true
   },
   "outputs": [
    {
     "data": {
      "text/plain": [
       "Unnamed                                                                                          454\n",
       "G-Eazy - No Limit REMIX ft. A$AP Rocky, Cardi B, French Montana, Juicy J, Belly                   46\n",
       "Selena Gomez, Marshmello - Wolves                                                                 44\n",
       "It's true, wife and I are getting a divorce.  Here's whats next for us.                           38\n",
       "MACKLEMORE FEAT DAVE B & TRAVIS THOMPSON - CORNER STORE (Official Music Video)                    38\n",
       "                                                                                                ... \n",
       "Beni Affet 1268. Bölüm                                                                             1\n",
       "Loup d'Abyssinie VS rat-taupe géant - ZAPPING SAUVAGE                                             1\n",
       "Dadju - Par Amour Ft. Maître Gims                                                                  1\n",
       "Canada Soccer's Women's National Team v Norway International Friendly LIVE from Marbella, ESP      1\n",
       "Envoyé spécial. Mon maire ce héros - 16 novembre 2017 (France 2)                                   1\n",
       "Name: title, Length: 13389, dtype: int64"
      ]
     },
     "execution_count": 16,
     "metadata": {},
     "output_type": "execute_result"
    }
   ],
   "source": [
    "df['title'].value_counts()"
   ]
  },
  {
   "cell_type": "code",
   "execution_count": 15,
   "id": "55e748da",
   "metadata": {},
   "outputs": [],
   "source": [
    "df = df[~df['title'].str.strip().str.lower().eq('error')]"
   ]
  },
  {
   "cell_type": "code",
   "execution_count": 18,
   "id": "d816cc24",
   "metadata": {},
   "outputs": [],
   "source": [
    "# Define the mapping from ID to Category Name\n",
    "category_mapping = {\n",
    "    1: \"Film & Animation\",\n",
    "    2: \"Autos & Vehicles\",\n",
    "    10: \"Music\",\n",
    "    15: \"Pets & Animals\",\n",
    "    17: \"Sports\",\n",
    "    18: \"Short Movies\",\n",
    "    19: \"Travel & Events\",\n",
    "    20: \"Gaming\",\n",
    "    22: \"People & Blogs\",\n",
    "    23: \"Comedy\",\n",
    "    24: \"Entertainment\",\n",
    "    25: \"News & Politics\",\n",
    "    26: \"Howto & Style\",\n",
    "    27: \"Education\",\n",
    "    28: \"Science & Technology\",\n",
    "    29: \"Nonprofits & Activism\",\n",
    "    43: \"Shows\"\n",
    "}\n",
    "\n",
    "# Replace category_id with category name\n",
    "df['category_name'] = df['category_id'].map(category_mapping)"
   ]
  },
  {
   "cell_type": "code",
   "execution_count": 21,
   "id": "29d59392",
   "metadata": {},
   "outputs": [
    {
     "data": {
      "text/html": [
       "<div>\n",
       "<style scoped>\n",
       "    .dataframe tbody tr th:only-of-type {\n",
       "        vertical-align: middle;\n",
       "    }\n",
       "\n",
       "    .dataframe tbody tr th {\n",
       "        vertical-align: top;\n",
       "    }\n",
       "\n",
       "    .dataframe thead th {\n",
       "        text-align: right;\n",
       "    }\n",
       "</style>\n",
       "<table border=\"1\" class=\"dataframe\">\n",
       "  <thead>\n",
       "    <tr style=\"text-align: right;\">\n",
       "      <th></th>\n",
       "      <th>video_id</th>\n",
       "      <th>trending_date</th>\n",
       "      <th>title</th>\n",
       "      <th>channel_title</th>\n",
       "      <th>category_id</th>\n",
       "      <th>publish_date</th>\n",
       "      <th>time_frame</th>\n",
       "      <th>published_day_of_week</th>\n",
       "      <th>publish_country</th>\n",
       "      <th>tags</th>\n",
       "      <th>...</th>\n",
       "      <th>comments_disabled</th>\n",
       "      <th>ratings_disabled</th>\n",
       "      <th>video_error_or_removed</th>\n",
       "      <th>days_to_trend</th>\n",
       "      <th>publish_year</th>\n",
       "      <th>publish_month</th>\n",
       "      <th>trending_year</th>\n",
       "      <th>trending_month</th>\n",
       "      <th>category_name</th>\n",
       "      <th>hour</th>\n",
       "    </tr>\n",
       "  </thead>\n",
       "  <tbody>\n",
       "    <tr>\n",
       "      <th>0</th>\n",
       "      <td>2kyS6SvSYSE</td>\n",
       "      <td>12-01-2017</td>\n",
       "      <td>WE WANT TO TALK ABOUT OUR MARRIAGE</td>\n",
       "      <td>CaseyNeistat</td>\n",
       "      <td>22</td>\n",
       "      <td>13-11-2017</td>\n",
       "      <td>17:00 to 17:59</td>\n",
       "      <td>Monday</td>\n",
       "      <td>US</td>\n",
       "      <td>SHANtell martin</td>\n",
       "      <td>...</td>\n",
       "      <td>False</td>\n",
       "      <td>False</td>\n",
       "      <td>False</td>\n",
       "      <td>305</td>\n",
       "      <td>2017</td>\n",
       "      <td>Nov</td>\n",
       "      <td>2017</td>\n",
       "      <td>Jan</td>\n",
       "      <td>People &amp; Blogs</td>\n",
       "      <td>17</td>\n",
       "    </tr>\n",
       "    <tr>\n",
       "      <th>1</th>\n",
       "      <td>1ZAPwfrtAFY</td>\n",
       "      <td>12-01-2017</td>\n",
       "      <td>The Trump Presidency: Last Week Tonight with J...</td>\n",
       "      <td>LastWeekTonight</td>\n",
       "      <td>24</td>\n",
       "      <td>13-11-2017</td>\n",
       "      <td>7:00 to 7:59</td>\n",
       "      <td>Monday</td>\n",
       "      <td>US</td>\n",
       "      <td>last week tonight trump presidency|\"last week ...</td>\n",
       "      <td>...</td>\n",
       "      <td>False</td>\n",
       "      <td>False</td>\n",
       "      <td>False</td>\n",
       "      <td>305</td>\n",
       "      <td>2017</td>\n",
       "      <td>Nov</td>\n",
       "      <td>2017</td>\n",
       "      <td>Jan</td>\n",
       "      <td>Entertainment</td>\n",
       "      <td>7</td>\n",
       "    </tr>\n",
       "    <tr>\n",
       "      <th>2</th>\n",
       "      <td>5qpjK5DgCt4</td>\n",
       "      <td>12-01-2017</td>\n",
       "      <td>Racist Superman | Rudy Mancuso, King Bach &amp; Le...</td>\n",
       "      <td>Rudy Mancuso</td>\n",
       "      <td>23</td>\n",
       "      <td>12-11-2017</td>\n",
       "      <td>19:00 to 19:59</td>\n",
       "      <td>Sunday</td>\n",
       "      <td>US</td>\n",
       "      <td>racist superman|\"rudy\"\"|\"\"mancuso\"\"|\"\"king\"\"|\"...</td>\n",
       "      <td>...</td>\n",
       "      <td>False</td>\n",
       "      <td>False</td>\n",
       "      <td>False</td>\n",
       "      <td>304</td>\n",
       "      <td>2017</td>\n",
       "      <td>Nov</td>\n",
       "      <td>2017</td>\n",
       "      <td>Jan</td>\n",
       "      <td>Comedy</td>\n",
       "      <td>19</td>\n",
       "    </tr>\n",
       "    <tr>\n",
       "      <th>3</th>\n",
       "      <td>puqaWrEC7tY</td>\n",
       "      <td>12-01-2017</td>\n",
       "      <td>Nickelback Lyrics: Real or Fake?</td>\n",
       "      <td>Good Mythical Morning</td>\n",
       "      <td>24</td>\n",
       "      <td>13-11-2017</td>\n",
       "      <td>11:00 to 11:59</td>\n",
       "      <td>Monday</td>\n",
       "      <td>US</td>\n",
       "      <td>rhett and link|\"gmm\"\"|\"\"good mythical morning\"...</td>\n",
       "      <td>...</td>\n",
       "      <td>False</td>\n",
       "      <td>False</td>\n",
       "      <td>False</td>\n",
       "      <td>305</td>\n",
       "      <td>2017</td>\n",
       "      <td>Nov</td>\n",
       "      <td>2017</td>\n",
       "      <td>Jan</td>\n",
       "      <td>Entertainment</td>\n",
       "      <td>11</td>\n",
       "    </tr>\n",
       "    <tr>\n",
       "      <th>4</th>\n",
       "      <td>d380meD0W0M</td>\n",
       "      <td>12-01-2017</td>\n",
       "      <td>I Dare You: GOING BALD!?</td>\n",
       "      <td>nigahiga</td>\n",
       "      <td>24</td>\n",
       "      <td>12-11-2017</td>\n",
       "      <td>18:00 to 18:59</td>\n",
       "      <td>Sunday</td>\n",
       "      <td>US</td>\n",
       "      <td>ryan|\"higa\"\"|\"\"higatv\"\"|\"\"nigahiga\"\"|\"\"i dare ...</td>\n",
       "      <td>...</td>\n",
       "      <td>False</td>\n",
       "      <td>False</td>\n",
       "      <td>False</td>\n",
       "      <td>304</td>\n",
       "      <td>2017</td>\n",
       "      <td>Nov</td>\n",
       "      <td>2017</td>\n",
       "      <td>Jan</td>\n",
       "      <td>Entertainment</td>\n",
       "      <td>18</td>\n",
       "    </tr>\n",
       "  </tbody>\n",
       "</table>\n",
       "<p>5 rows × 24 columns</p>\n",
       "</div>"
      ],
      "text/plain": [
       "      video_id trending_date  \\\n",
       "0  2kyS6SvSYSE    12-01-2017   \n",
       "1  1ZAPwfrtAFY    12-01-2017   \n",
       "2  5qpjK5DgCt4    12-01-2017   \n",
       "3  puqaWrEC7tY    12-01-2017   \n",
       "4  d380meD0W0M    12-01-2017   \n",
       "\n",
       "                                               title          channel_title  \\\n",
       "0                 WE WANT TO TALK ABOUT OUR MARRIAGE           CaseyNeistat   \n",
       "1  The Trump Presidency: Last Week Tonight with J...        LastWeekTonight   \n",
       "2  Racist Superman | Rudy Mancuso, King Bach & Le...           Rudy Mancuso   \n",
       "3                   Nickelback Lyrics: Real or Fake?  Good Mythical Morning   \n",
       "4                           I Dare You: GOING BALD!?               nigahiga   \n",
       "\n",
       "   category_id publish_date      time_frame published_day_of_week  \\\n",
       "0           22   13-11-2017  17:00 to 17:59                Monday   \n",
       "1           24   13-11-2017    7:00 to 7:59                Monday   \n",
       "2           23   12-11-2017  19:00 to 19:59                Sunday   \n",
       "3           24   13-11-2017  11:00 to 11:59                Monday   \n",
       "4           24   12-11-2017  18:00 to 18:59                Sunday   \n",
       "\n",
       "  publish_country                                               tags  ...  \\\n",
       "0              US                                    SHANtell martin  ...   \n",
       "1              US  last week tonight trump presidency|\"last week ...  ...   \n",
       "2              US  racist superman|\"rudy\"\"|\"\"mancuso\"\"|\"\"king\"\"|\"...  ...   \n",
       "3              US  rhett and link|\"gmm\"\"|\"\"good mythical morning\"...  ...   \n",
       "4              US  ryan|\"higa\"\"|\"\"higatv\"\"|\"\"nigahiga\"\"|\"\"i dare ...  ...   \n",
       "\n",
       "   comments_disabled  ratings_disabled  video_error_or_removed  days_to_trend  \\\n",
       "0              False             False                   False            305   \n",
       "1              False             False                   False            305   \n",
       "2              False             False                   False            304   \n",
       "3              False             False                   False            305   \n",
       "4              False             False                   False            304   \n",
       "\n",
       "   publish_year  publish_month  trending_year  trending_month   category_name  \\\n",
       "0          2017            Nov           2017             Jan  People & Blogs   \n",
       "1          2017            Nov           2017             Jan   Entertainment   \n",
       "2          2017            Nov           2017             Jan          Comedy   \n",
       "3          2017            Nov           2017             Jan   Entertainment   \n",
       "4          2017            Nov           2017             Jan   Entertainment   \n",
       "\n",
       "  hour  \n",
       "0   17  \n",
       "1    7  \n",
       "2   19  \n",
       "3   11  \n",
       "4   18  \n",
       "\n",
       "[5 rows x 24 columns]"
      ]
     },
     "execution_count": 21,
     "metadata": {},
     "output_type": "execute_result"
    }
   ],
   "source": [
    "df.head()"
   ]
  },
  {
   "cell_type": "code",
   "execution_count": 20,
   "id": "e41f06eb",
   "metadata": {},
   "outputs": [],
   "source": [
    "# Extract starting hour from time_frame\n",
    "df['hour'] = df['time_frame'].str.extract(r'^(\\d{1,2}):')\n",
    "\n",
    "# Convert to integer\n",
    "df['hour'] = df['hour'].astype(int)"
   ]
  },
  {
   "cell_type": "code",
   "execution_count": 22,
   "id": "981faaa8",
   "metadata": {},
   "outputs": [
    {
     "name": "stdout",
     "output_type": "stream",
     "text": [
      "<class 'pandas.core.frame.DataFrame'>\n",
      "Int64Index: 40536 entries, 0 to 41224\n",
      "Data columns (total 24 columns):\n",
      " #   Column                  Non-Null Count  Dtype \n",
      "---  ------                  --------------  ----- \n",
      " 0   video_id                40536 non-null  object\n",
      " 1   trending_date           40536 non-null  object\n",
      " 2   title                   40536 non-null  object\n",
      " 3   channel_title           40536 non-null  object\n",
      " 4   category_id             40536 non-null  int64 \n",
      " 5   publish_date            40536 non-null  object\n",
      " 6   time_frame              40536 non-null  object\n",
      " 7   published_day_of_week   40536 non-null  object\n",
      " 8   publish_country         40536 non-null  object\n",
      " 9   tags                    40536 non-null  object\n",
      " 10  views                   40536 non-null  int64 \n",
      " 11  likes                   40536 non-null  int64 \n",
      " 12  dislikes                40536 non-null  int64 \n",
      " 13  comment_count           40536 non-null  int64 \n",
      " 14  comments_disabled       40536 non-null  bool  \n",
      " 15  ratings_disabled        40536 non-null  bool  \n",
      " 16  video_error_or_removed  40536 non-null  bool  \n",
      " 17  days_to_trend           40536 non-null  int64 \n",
      " 18  publish_year            40536 non-null  int64 \n",
      " 19  publish_month           40536 non-null  object\n",
      " 20  trending_year           40536 non-null  int64 \n",
      " 21  trending_month          40536 non-null  object\n",
      " 22  category_name           40536 non-null  object\n",
      " 23  hour                    40536 non-null  int32 \n",
      "dtypes: bool(3), int32(1), int64(8), object(12)\n",
      "memory usage: 6.8+ MB\n"
     ]
    }
   ],
   "source": [
    "df.info()"
   ]
  },
  {
   "cell_type": "code",
   "execution_count": 25,
   "id": "199e811c",
   "metadata": {},
   "outputs": [
    {
     "name": "stdout",
     "output_type": "stream",
     "text": [
      "Merged data saved to: C:\\Users\\yasho\\Downloads\\youtube.csv\\Yearwise_data_spilit\\Yotube _data_2017\\Tableau_Data_Dahboard\\final_tableau_data.csv\n"
     ]
    }
   ],
   "source": [
    "import os\n",
    "import pandas as pd\n",
    "\n",
    "# Final output file with filename and .csv extension\n",
    "output_file = r\"C:\\Users\\yasho\\Downloads\\youtube.csv\\Yearwise_data_spilit\\Yotube _data_2017\\Tableau_Data_Dahboard\\final_tableau_data.csv\"\n",
    "\n",
    "# Save DataFrame to the specified CSV file\n",
    "df.to_csv(output_file, index=False)\n",
    "\n",
    "print(f\"Merged data saved to: {output_file}\")\n",
    "\n"
   ]
  },
  {
   "cell_type": "code",
   "execution_count": null,
   "id": "65413598",
   "metadata": {},
   "outputs": [],
   "source": []
  }
 ],
 "metadata": {
  "kernelspec": {
   "display_name": "Python 3",
   "language": "python",
   "name": "python3"
  },
  "language_info": {
   "codemirror_mode": {
    "name": "ipython",
    "version": 3
   },
   "file_extension": ".py",
   "mimetype": "text/x-python",
   "name": "python",
   "nbconvert_exporter": "python",
   "pygments_lexer": "ipython3",
   "version": "3.8.8"
  }
 },
 "nbformat": 4,
 "nbformat_minor": 5
}
